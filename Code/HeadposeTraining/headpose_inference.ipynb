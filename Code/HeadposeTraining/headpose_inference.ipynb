{
 "cells": [
  {
   "cell_type": "markdown",
   "id": "75ea3aee",
   "metadata": {},
   "source": [
    "# All Imports"
   ]
  },
  {
   "cell_type": "code",
   "execution_count": null,
   "id": "105a1ea9",
   "metadata": {},
   "outputs": [],
   "source": [
    "import numpy as np\n",
    "import os\n",
    "import sys\n",
    "import cv2\n",
    "from tensorflow.keras.models import load_model\n",
    "from glob import glob\n",
    "import random\n",
    "from tensorflow.keras.utils import Sequence\n",
    "from random import randrange\n",
    "import json\n",
    "import math\n",
    "import pandas as pd"
   ]
  },
  {
   "cell_type": "markdown",
   "id": "9939e78e",
   "metadata": {},
   "source": [
    "# Load Model"
   ]
  },
  {
   "cell_type": "code",
   "execution_count": null,
   "id": "a1dae2b1",
   "metadata": {},
   "outputs": [],
   "source": [
    "def load_hp_model(oModelPath):\n",
    "    oHpModel = load_model(oModelPath)\n",
    "    return oHpModel"
   ]
  },
  {
   "cell_type": "markdown",
   "id": "507c686d",
   "metadata": {},
   "source": [
    "# Headpose Display Fuction"
   ]
  },
  {
   "cell_type": "code",
   "execution_count": null,
   "id": "638ec185",
   "metadata": {},
   "outputs": [],
   "source": [
    "# Calculates Rotation Matrix given euler angles.\n",
    "def eulerAnglesToRotationMatrix(theta) :\n",
    "    R_x = np.identity(3)\n",
    "    R_y = np.identity(3)\n",
    "    R_z = np.identity(3)\n",
    "     \n",
    "    R_x = np.array([[1,0,0],\n",
    "                    [0,math.cos(theta[0]), -math.sin(theta[0]) ],\n",
    "                    [0,math.sin(theta[0]), math.cos(theta[0])]\n",
    "                    ])\n",
    "         \n",
    "         \n",
    "                     \n",
    "    R_y = np.array([[math.cos(theta[1]),0,math.sin(theta[1])],\n",
    "                    [0,1,0],\n",
    "                    [-math.sin(theta[1]),0,math.cos(theta[1])]\n",
    "                    ])\n",
    "                 \n",
    "    R_z = np.array([[math.cos(theta[2]),-math.sin(theta[2]),0],\n",
    "                    [math.sin(theta[2]),math.cos(theta[2]),0],\n",
    "                    [0,0,1]\n",
    "                    ])\n",
    "                     \n",
    "                     \n",
    "    R = np.dot(R_z, np.dot( R_y, R_x ))\n",
    " \n",
    "    return R\n",
    "\n",
    "#display headpose\n",
    "\n",
    "#output of function contains headpose vector drawn on top of it\n",
    "def displayHeadpose(oImgNp, oAnglesNp,oOffset = 0):\n",
    "    #convert degree to radians\n",
    "    oAnglesNp = oAnglesNp * np.pi/180.0\n",
    "    oHeadposeRotationMat = eulerAnglesToRotationMatrix(oAnglesNp)\n",
    "    oPointsNp = np.array([(30, 0 ,0),\n",
    "                         (0, 30, 0),\n",
    "                         (0, 0, 30)])\n",
    "    oPointsNp = np.dot(oHeadposeRotationMat, oPointsNp)\n",
    "    oOriginT = (int(oImgNp.shape[1]/2 + oOffset), int(oImgNp.shape[0]/2))\n",
    "    oLineXT = (int(oOriginT[0] - oPointsNp[0,0]), int(oOriginT[1] - oPointsNp[1,0]))\n",
    "    oLineYT = (int(oOriginT[0] - oPointsNp[0,1]), int(oOriginT[1] - oPointsNp[1,1]))\n",
    "    oLineZT = (int(oOriginT[0] - oPointsNp[0,2]), int(oOriginT[1] - oPointsNp[1,2]))\n",
    "    cv2.line(oImgNp, oOriginT, oLineXT, (0,0,255),3)\n",
    "    cv2.line(oImgNp, oOriginT, oLineYT, (0,255,0),3)\n",
    "    cv2.line(oImgNp, oOriginT, oLineZT, (255,0,0),3)\n",
    "    return oImgNp"
   ]
  },
  {
   "cell_type": "markdown",
   "id": "8f5646cc",
   "metadata": {},
   "source": [
    "# Headpose Inference"
   ]
  },
  {
   "cell_type": "code",
   "execution_count": null,
   "id": "b769474a",
   "metadata": {},
   "outputs": [],
   "source": [
    "def expand_bbox(oBBox):\n",
    "    x, y, width, height = oBBox[0],oBBox[1], oBBox[2] - oBBox[0],oBBox[3] - oBBox[1]\n",
    "    #enlarged box\n",
    "    x = int(x - width/2)\n",
    "    if x < 0:\n",
    "        x = 0\n",
    "    \n",
    "    y = int(y - height/2)\n",
    "    if y< 0:\n",
    "        y = 0\n",
    "    \n",
    "    width = int(width + width)\n",
    "    if x+width > frame.shape[1]:\n",
    "        width = frame.shape[1]\n",
    "    \n",
    "    height = int(height + height)\n",
    "    if y+height > frame.shape[0]:\n",
    "        height = frame.shape[0]\n",
    "        \n",
    "        \n",
    "    bbox = [x,y,x+width,y+height]\n",
    "\n",
    "    return bbox\n",
    "\n",
    "#input image should be in BGR FORMAT\n",
    "#input face box should be in [x1,y1,x2,y2] in other words [left, top,right,bottom]\n",
    "def headpose_inference(oModel,oImage,oBBox):\n",
    "    #expand bounding box\n",
    "    oBboxExpanded = expand_bbox(oBBox)\n",
    "    oImage = cv2.cvtColor(oImage, cv2.COLOR_BGR2RGB)\n",
    "    #crop face region\n",
    "    crop = frame[oBboxExpanded[1]:oBboxExpanded[3], oBboxExpanded[0]:oBboxExpanded[2]]\n",
    "    #resize crop\n",
    "    crop = cv2.resize(crop, (100,100))\n",
    "    crop = np.reshape(crop,(-1,100,100,3))\n",
    "    #normalize\n",
    "    crop = crop/255.0\n",
    "    #predict headpose \n",
    "    oHpAngles = oModel.predict(crop)\n",
    "    #convert radian to degree\n",
    "    oHpAngles = oHpAngles[0] * 180/np.pi\n",
    "    \n",
    "    return oHpAngles\n"
   ]
  },
  {
   "cell_type": "code",
   "execution_count": null,
   "id": "d21a44d3",
   "metadata": {},
   "outputs": [],
   "source": []
  },
  {
   "cell_type": "code",
   "execution_count": null,
   "id": "89578902",
   "metadata": {},
   "outputs": [],
   "source": []
  },
  {
   "cell_type": "code",
   "execution_count": null,
   "id": "6338c72c",
   "metadata": {},
   "outputs": [],
   "source": []
  },
  {
   "cell_type": "code",
   "execution_count": null,
   "id": "cd036811",
   "metadata": {},
   "outputs": [],
   "source": []
  },
  {
   "cell_type": "code",
   "execution_count": null,
   "id": "576b6bcc",
   "metadata": {},
   "outputs": [],
   "source": []
  },
  {
   "cell_type": "code",
   "execution_count": null,
   "id": "477ecbcd",
   "metadata": {},
   "outputs": [],
   "source": []
  }
 ],
 "metadata": {
  "kernelspec": {
   "display_name": "Python 3",
   "language": "python",
   "name": "python3"
  },
  "language_info": {
   "codemirror_mode": {
    "name": "ipython",
    "version": 3
   },
   "file_extension": ".py",
   "mimetype": "text/x-python",
   "name": "python",
   "nbconvert_exporter": "python",
   "pygments_lexer": "ipython3",
   "version": "3.8.8"
  }
 },
 "nbformat": 4,
 "nbformat_minor": 5
}
