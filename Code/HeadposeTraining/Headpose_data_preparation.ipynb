{
 "cells": [
  {
   "cell_type": "code",
   "execution_count": 1,
   "id": "d6154353",
   "metadata": {},
   "outputs": [],
   "source": [
    "import os\n",
    "import numpy as np\n",
    "import cv2\n",
    "import pandas as pd\n",
    "from glob import glob\n",
    "import math\n",
    "import matplotlib.pyplot as plt\n",
    "from sklearn.model_selection import train_test_split\n",
    "import shutil\n",
    "import json\n"
   ]
  },
  {
   "cell_type": "markdown",
   "id": "9729e581",
   "metadata": {},
   "source": [
    "# Get list of image path and coresponding groundtruth"
   ]
  },
  {
   "cell_type": "code",
   "execution_count": 2,
   "id": "f2d2dbbe",
   "metadata": {
    "scrolled": true
   },
   "outputs": [],
   "source": [
    "oBaseDirPath = \"D:\\\\ISS_project\\dataset\\\\face_dataset_RGB\\\\\"\n",
    "\n",
    "def get_data(oDirList):\n",
    "    oFinalImagePath = []\n",
    "    oFinalGroundTruth = []\n",
    "    for directory in oDirList:\n",
    "        oDirPath = os.path.join(oBaseDirPath,directory)\n",
    "        #read groundtruth\n",
    "        oGrthFilePath = os.path.join(oDirPath,\"angles.txt\")\n",
    "        oGetGroundtruth = pd.read_csv(oGrthFilePath, sep=\"\\t\", header=None)\n",
    "        #print(oGetGroundtruth[3][3])\n",
    "        #get list of all images\n",
    "        oImagePathList = glob(oDirPath+\"\\\\*.png\")\n",
    "        #save image path and corresponding groundtruth to final list\n",
    "        for imgPath in oImagePathList:\n",
    "            oImageName = imgPath.split(\"\\\\\")[-1]\n",
    "            oImageId = int(oImageName.split(\"_\")[1])\n",
    "            oGTAngles = [oGetGroundtruth[3][oImageId],-1 * oGetGroundtruth[1][oImageId],-1 * oGetGroundtruth[2][oImageId]]\n",
    "            oFinalImagePath.append(imgPath)\n",
    "            oFinalGroundTruth.append(oGTAngles)\n",
    "    return oFinalImagePath,oFinalGroundTruth"
   ]
  },
  {
   "cell_type": "markdown",
   "id": "995f62f8",
   "metadata": {},
   "source": [
    "# Testing Groundtruth by Displaying the vectors"
   ]
  },
  {
   "cell_type": "code",
   "execution_count": 3,
   "id": "44555528",
   "metadata": {},
   "outputs": [],
   "source": [
    "# Calculates Rotation Matrix given euler angles.\n",
    "def eulerAnglesToRotationMatrix(theta) :\n",
    "    R_x = np.identity(3)\n",
    "    R_y = np.identity(3)\n",
    "    R_z = np.identity(3)\n",
    "     \n",
    "    R_x = np.array([[1,0,0],\n",
    "                    [0,math.cos(theta[0]), -math.sin(theta[0]) ],\n",
    "                    [0,math.sin(theta[0]), math.cos(theta[0])]\n",
    "                    ])\n",
    "         \n",
    "         \n",
    "                     \n",
    "    R_y = np.array([[math.cos(theta[1]),0,math.sin(theta[1])],\n",
    "                    [0,1,0],\n",
    "                    [-math.sin(theta[1]),0,math.cos(theta[1])]\n",
    "                    ])\n",
    "                 \n",
    "    R_z = np.array([[math.cos(theta[2]),-math.sin(theta[2]),0],\n",
    "                    [math.sin(theta[2]),math.cos(theta[2]),0],\n",
    "                    [0,0,1]\n",
    "                    ])\n",
    "                     \n",
    "                     \n",
    "    R = np.dot(R_z, np.dot( R_y, R_x ))\n",
    " \n",
    "    return R\n",
    "\n",
    "#display headpose\n",
    "def displayHeadpose(oImgNp, oAnglesNp,oOffset = 0):\n",
    "    oHeadposeRotationMat = eulerAnglesToRotationMatrix(oAnglesNp)\n",
    "    oPointsNp = np.array([(50, 0 ,0),\n",
    "                         (0, 50, 0),\n",
    "                         (0, 0, 50)])\n",
    "    oPointsNp = np.dot(oHeadposeRotationMat, oPointsNp)\n",
    "    oOriginT = (int(oImgNp.shape[1]/2 + oOffset), int(oImgNp.shape[0]/2))\n",
    "    oLineXT = (int(oOriginT[0] - oPointsNp[0,0]), int(oOriginT[1] - oPointsNp[1,0]))\n",
    "    oLineYT = (int(oOriginT[0] - oPointsNp[0,1]), int(oOriginT[1] - oPointsNp[1,1]))\n",
    "    oLineZT = (int(oOriginT[0] - oPointsNp[0,2]), int(oOriginT[1] - oPointsNp[1,2]))\n",
    "    cv2.line(oImgNp, oOriginT, oLineXT, (0,0,255),3)\n",
    "    cv2.line(oImgNp, oOriginT, oLineYT, (0,255,0),3)\n",
    "    cv2.line(oImgNp, oOriginT, oLineZT, (255,0,0),3)\n",
    "    return oImgNp\n",
    "\n",
    "\n",
    "    "
   ]
  },
  {
   "cell_type": "code",
   "execution_count": null,
   "id": "ce5ae5b3",
   "metadata": {},
   "outputs": [],
   "source": [
    "fourcc = cv2.VideoWriter_fourcc(*'XVID')\n",
    "out = cv2.VideoWriter('output.avi', fourcc, 20.0, (100,100))\n",
    "\n",
    "for i in range(0,len(oFinalImagePath)):\n",
    "    oImage = cv2.imread(oFinalImagePath[i])\n",
    "    #oImage = cv2.cvtColor(oImage, cv2.COLOR_BGR2RGB)\n",
    "    oGT = [oFinalGroundTruth[i][0] * np.pi/180,oFinalGroundTruth[i][1] * np.pi/180,oFinalGroundTruth[i][2] * np.pi/180]\n",
    "    oDisplayImage = displayHeadpose(oImage,oGT)\n",
    "    out.write(oDisplayImage)\n",
    "    \n",
    "    #plt.imshow(oDisplayImage)\n",
    "    #plt.show()\n",
    "out.release()"
   ]
  },
  {
   "cell_type": "markdown",
   "id": "63007a7a",
   "metadata": {},
   "source": [
    "# Split Data into Train and Validation"
   ]
  },
  {
   "cell_type": "code",
   "execution_count": 5,
   "id": "da5512df",
   "metadata": {},
   "outputs": [
    {
     "name": "stdout",
     "output_type": "stream",
     "text": [
      "No: of training data :  ['001', '002', '003', '004', '005', '006', '007', '008', '009', '010', '011', '012', '013', '014', '015', '016', '017', '018', '019', '020', '021', '022', '023', '024', '025', '026', '027', '028', '029', '030', '031', '032', '033', '034', '035', '036', '037', '038', '039', '040', '041', '042', '043', '044', '045', '046', '047', '048', '049', '050', '051', '052', '053', '054', '055', '056', '057', '058', '059', '060', '061', '062', '063', '064', '065', '066', '067', '068', '069', '070', '071', '072', '073', '074', '075', '076', '077', '078', '079', '080']\n",
      "No: of Validation data :  ['081', '082', '083', '084', '085', '086', '087', '088', '089', '090', '091', '092', '093', '094', '095', '096', '097', '098', '099', '100']\n"
     ]
    }
   ],
   "source": [
    "# split into train test sets\n",
    "#list the directory name\n",
    "oDirList = os.listdir(oBaseDirPath)\n",
    "#X_train, X_test = train_test_split(oDirList, test_size=0.2,random_state=42)\n",
    "X_train = oDirList[0:80]\n",
    "X_test = oDirList[80:100]\n",
    "oTrainFinalImagePath,oTrainFinalGroundTruth= get_data(X_train)\n",
    "oValFinalImagePath,oValFinalGroundTruth= get_data(X_test)\n",
    "#print(\"Total data count :\",len(oFinalImagePath))\n",
    "print(\"No: of training data : \",X_train)\n",
    "print(\"No: of Validation data : \",X_test)\n"
   ]
  },
  {
   "cell_type": "markdown",
   "id": "3fbdad77",
   "metadata": {},
   "source": [
    "# Copy data into train and Validation folders"
   ]
  },
  {
   "cell_type": "code",
   "execution_count": 6,
   "id": "edd8b53d",
   "metadata": {},
   "outputs": [],
   "source": [
    "\n",
    "#destination directories \n",
    "oDestTrainDir = \"D:\\\\ISS_project\\\\dataset\\\\prepared_data\\\\train\\\\\"\n",
    "#copy training images and Ground truth\n",
    "for i in range(0,len(oTrainFinalImagePath)):\n",
    "    #file name\n",
    "    oImageName = oTrainFinalImagePath[i].split(\"\\\\\")[-1]\n",
    "    oImageName = oImageName.split(\".png\")[0]\n",
    "    ImageDirName = oTrainFinalImagePath[i].split(\"\\\\\")[-2]\n",
    "    oDestinationImageName = os.path.join(oDestTrainDir,ImageDirName + \"_\" + oImageName + \".png\")\n",
    "    #copy file\n",
    "    shutil.copy(oTrainFinalImagePath[i], oDestinationImageName)\n",
    "    #write groundtruth into textfile\n",
    "    oGTpath = os.path.join(oDestTrainDir,ImageDirName + \"_\" + oImageName + \"_angles.txt\")\n",
    "    with open(oGTpath, 'w') as f:\n",
    "        f.write(json.dumps(oTrainFinalGroundTruth[i]))\n",
    "        \n",
    "    "
   ]
  },
  {
   "cell_type": "code",
   "execution_count": 7,
   "id": "c8034b5c",
   "metadata": {},
   "outputs": [],
   "source": [
    "#destination directories \n",
    "oDestValDir = \"D:\\\\ISS_project\\\\dataset\\\\prepared_data\\\\val\\\\\"\n",
    "#copy validation images and Ground truth\n",
    "for i in range(0,len(oValFinalImagePath)):\n",
    "    #file name\n",
    "    oImageName = oValFinalImagePath[i].split(\"\\\\\")[-1]\n",
    "    oImageName = oImageName.split(\".png\")[0]\n",
    "    ImageDirName = oValFinalImagePath[i].split(\"\\\\\")[-2]\n",
    "    oDestinationImageName = os.path.join(oDestValDir,ImageDirName + \"_\" + oImageName + \".png\")\n",
    "    #copy file\n",
    "    shutil.copy(oValFinalImagePath[i], oDestinationImageName)\n",
    "    #write groundtruth into textfile\n",
    "    oGTpath = os.path.join(oDestValDir,ImageDirName + \"_\" + oImageName +\"_angles.txt\")\n",
    "    with open(oGTpath, 'w') as f:\n",
    "        f.write(json.dumps(oValFinalGroundTruth[i]))"
   ]
  },
  {
   "cell_type": "markdown",
   "id": "82edc858",
   "metadata": {},
   "source": [
    "# Prepare Biwi Dataset for Testing"
   ]
  },
  {
   "cell_type": "code",
   "execution_count": 26,
   "id": "5709373d",
   "metadata": {},
   "outputs": [],
   "source": [
    "oBaseDirPath = \"D:\\\\ISS_project\\\\dataset\\\\biwi_face_dataset_RGB\\\\face_dataset_RGB\\\\\"\n",
    "#list the directory name\n",
    "oDirList = os.listdir(oBaseDirPath)\n",
    "oFinalImagePath = []\n",
    "oFinalGroundTruth = []\n",
    "for directory in oDirList:\n",
    "    oDirPath = os.path.join(oBaseDirPath,directory)\n",
    "    #read groundtruth\n",
    "    oGrthFilePath = os.path.join(oDirPath,\"angles.txt\")\n",
    "    oGetGroundtruth = pd.read_csv(oGrthFilePath, sep=\"\\t\", header=None)\n",
    "    #print(oGetGroundtruth[3][5])\n",
    "    #get list of all images\n",
    "    oImagePathList = glob(oDirPath+\"\\\\*.png\")\n",
    "    #save image path and corresponding groundtruth to final list\n",
    "    for imgPath in oImagePathList:\n",
    "        oImageName = imgPath.split(\"\\\\\")[-1]\n",
    "        oImageId = int(oImageName.split(\"_\")[1])        \n",
    "        #get GT array index\n",
    "        oIndx = oGetGroundtruth[oGetGroundtruth[0] == oImageId].index.tolist()\n",
    "        oGTAngles = [oGetGroundtruth[2][oIndx[0]],oGetGroundtruth[3][oIndx[0]],oGetGroundtruth[1][oIndx[0]]]\n",
    "        oFinalImagePath.append(imgPath)\n",
    "        oFinalGroundTruth.append(oGTAngles)"
   ]
  },
  {
   "cell_type": "markdown",
   "id": "2d2fd01f",
   "metadata": {},
   "source": [
    "# Display the groundtruth"
   ]
  },
  {
   "cell_type": "code",
   "execution_count": 27,
   "id": "9bb34cd9",
   "metadata": {},
   "outputs": [],
   "source": [
    "fourcc = cv2.VideoWriter_fourcc(*'XVID')\n",
    "out = cv2.VideoWriter('output_test.avi', fourcc, 20.0, (100,100))\n",
    "\n",
    "for i in range(0,len(oFinalImagePath)):\n",
    "    oImage = cv2.imread(oFinalImagePath[i])\n",
    "    #oImage = cv2.cvtColor(oImage, cv2.COLOR_BGR2RGB)\n",
    "    oGT = [oFinalGroundTruth[i][0] * np.pi/180,oFinalGroundTruth[i][1] * np.pi/180,oFinalGroundTruth[i][2] * np.pi/180]\n",
    "    oDisplayImage = displayHeadpose(oImage,oGT)\n",
    "    out.write(oDisplayImage)\n",
    "    \n",
    "    #plt.imshow(oDisplayImage)\n",
    "    #plt.show()\n",
    "out.release()"
   ]
  },
  {
   "cell_type": "code",
   "execution_count": 28,
   "id": "7967e90e",
   "metadata": {},
   "outputs": [],
   "source": [
    "#destination directories \n",
    "oDestValDir = \"D:\\\\ISS_project\\\\dataset\\\\prepared_data\\\\test\\\\\"\n",
    "#copy validation images and Ground truth\n",
    "for i in range(0,len(oFinalImagePath)):\n",
    "    #file name\n",
    "    oImageName = oFinalImagePath[i].split(\"\\\\\")[-1]\n",
    "    oImageName = oImageName.split(\".png\")[0]\n",
    "    ImageDirName = oFinalImagePath[i].split(\"\\\\\")[-2]\n",
    "    oDestinationImageName = os.path.join(oDestValDir,ImageDirName + \"_\" + oImageName + \".png\")\n",
    "    #copy file\n",
    "    shutil.copy(oFinalImagePath[i], oDestinationImageName)\n",
    "    #write groundtruth into textfile\n",
    "    oGTpath = os.path.join(oDestValDir,ImageDirName + \"_\" + oImageName +\"_angles.txt\")\n",
    "    with open(oGTpath, 'w') as f:\n",
    "        f.write(json.dumps(oFinalGroundTruth[i]))"
   ]
  },
  {
   "cell_type": "code",
   "execution_count": null,
   "id": "65048d46",
   "metadata": {},
   "outputs": [],
   "source": []
  }
 ],
 "metadata": {
  "kernelspec": {
   "display_name": "Python 3",
   "language": "python",
   "name": "python3"
  },
  "language_info": {
   "codemirror_mode": {
    "name": "ipython",
    "version": 3
   },
   "file_extension": ".py",
   "mimetype": "text/x-python",
   "name": "python",
   "nbconvert_exporter": "python",
   "pygments_lexer": "ipython3",
   "version": "3.8.8"
  }
 },
 "nbformat": 4,
 "nbformat_minor": 5
}
